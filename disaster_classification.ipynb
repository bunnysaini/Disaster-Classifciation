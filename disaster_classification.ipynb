{
 "cells": [
  {
   "cell_type": "markdown",
   "id": "e1f75679",
   "metadata": {},
   "source": [
    "## Import Packages"
   ]
  },
  {
   "cell_type": "code",
   "execution_count": 1,
   "id": "e3de8e72",
   "metadata": {},
   "outputs": [],
   "source": [
    "import tensorflow as tf\n",
    "import PIL\n",
    "from keras.preprocessing.image import ImageDataGenerator\n",
    "from pathlib import Path\n",
    "from PIL import UnidentifiedImageError\n",
    "from PIL import ImageFile  "
   ]
  },
  {
   "cell_type": "code",
   "execution_count": 2,
   "id": "80f754e3",
   "metadata": {},
   "outputs": [],
   "source": [
    "ImageFile.LOAD_TRUNCATED_IMAGES = True "
   ]
  },
  {
   "cell_type": "markdown",
   "id": "bb08bb51",
   "metadata": {},
   "source": [
    "## Data Pre-Proccessing"
   ]
  },
  {
   "cell_type": "markdown",
   "id": "7c513f34",
   "metadata": {},
   "source": [
    "### Check for Improper Image Files "
   ]
  },
  {
   "cell_type": "code",
   "execution_count": 26,
   "id": "889d0479",
   "metadata": {
    "scrolled": true
   },
   "outputs": [
    {
     "name": "stdout",
     "output_type": "stream",
     "text": [
      "Comprehensive Disaster Dataset(CDD)\\Fire_Disaster\\Urban_Fire\\01_01_0060.png\n",
      "Comprehensive Disaster Dataset(CDD)\\Fire_Disaster\\Wild_Fire\\01_02_0184.png\n",
      "Comprehensive Disaster Dataset(CDD)\\Fire_Disaster\\Wild_Fire\\01_02_0283.png\n",
      "Comprehensive Disaster Dataset(CDD)\\Fire_Disaster\\Wild_Fire\\01_02_0333.png\n",
      "Comprehensive Disaster Dataset(CDD)\\Fire_Disaster\\Wild_Fire\\01_02_0447.png\n",
      "Comprehensive Disaster Dataset(CDD)\\Human_Damage\\02_0069.png\n",
      "Comprehensive Disaster Dataset(CDD)\\Land_Disaster\\Land_Slide\\04_01_0007.png\n",
      "Comprehensive Disaster Dataset(CDD)\\Land_Disaster\\Land_Slide\\04_01_0335.png\n",
      "Comprehensive Disaster Dataset(CDD)\\Land_Disaster\\Land_Slide\\04_01_0373.png\n"
     ]
    }
   ],
   "source": [
    "path = Path(\"Comprehensive Disaster Dataset(CDD)\").rglob(\"*.png\")\n",
    "for img_p in path:\n",
    "    try:\n",
    "        img = PIL.Image.open(img_p)\n",
    "    except PIL.UnidentifiedImageError:\n",
    "            print(img_p)"
   ]
  },
  {
   "cell_type": "markdown",
   "id": "431e9423",
   "metadata": {},
   "source": [
    "### 9 Improper Image Files Found, Delete Files from Dataset "
   ]
  },
  {
   "cell_type": "markdown",
   "id": "8748d1cb",
   "metadata": {},
   "source": [
    "##### All improper image files have already been deleted in the dataset that was uploaded along with this file.  "
   ]
  },
  {
   "cell_type": "code",
   "execution_count": 2,
   "id": "b5cb76ee",
   "metadata": {
    "scrolled": true
   },
   "outputs": [
    {
     "name": "stdout",
     "output_type": "stream",
     "text": [
      "Over!\n"
     ]
    }
   ],
   "source": [
    "path = Path(\"Comprehensive Disaster Dataset(CDD)\").rglob(\"*.png\")\n",
    "for img_p in path:\n",
    "    try:\n",
    "        img = PIL.Image.open(img_p)\n",
    "    except PIL.UnidentifiedImageError:\n",
    "            print(img_p)\n",
    "print(\"Over!\")"
   ]
  },
  {
   "cell_type": "markdown",
   "id": "e1955ffe",
   "metadata": {},
   "source": [
    "##### Create Training and Validation Sets for the Model"
   ]
  },
  {
   "cell_type": "code",
   "execution_count": 3,
   "id": "07374cd2",
   "metadata": {},
   "outputs": [
    {
     "name": "stdout",
     "output_type": "stream",
     "text": [
      "Found 10841 images belonging to 6 classes.\n"
     ]
    }
   ],
   "source": [
    "datagen = ImageDataGenerator(rescale = 1./255,\n",
    "                                   shear_range = 0.2,\n",
    "                                   zoom_range = 0.2,\n",
    "                                   validation_split = 0.2,\n",
    "                                   horizontal_flip = True)\n",
    "training_set = datagen.flow_from_directory('Comprehensive Disaster Dataset(CDD)',\n",
    "                                                 target_size = (64, 64),\n",
    "                                                 batch_size = 32,\n",
    "                                                 subset='training',\n",
    "                                                 class_mode = 'categorical')"
   ]
  },
  {
   "cell_type": "code",
   "execution_count": 4,
   "id": "950f6081",
   "metadata": {},
   "outputs": [
    {
     "name": "stdout",
     "output_type": "stream",
     "text": [
      "Found 2707 images belonging to 6 classes.\n"
     ]
    }
   ],
   "source": [
    "test_set = datagen.flow_from_directory('Comprehensive Disaster Dataset(CDD)',\n",
    "                                                 target_size = (64, 64),\n",
    "                                                 batch_size = 32,\n",
    "                                                 subset='validation',\n",
    "                                                 class_mode = 'categorical')"
   ]
  },
  {
   "cell_type": "markdown",
   "id": "34e7071f",
   "metadata": {},
   "source": [
    "## Building the Convolutional Neural Network"
   ]
  },
  {
   "cell_type": "markdown",
   "id": "26fc31cf",
   "metadata": {},
   "source": [
    "#### Initialising the Convolutional Neural Network"
   ]
  },
  {
   "cell_type": "code",
   "execution_count": 5,
   "id": "3f307535",
   "metadata": {},
   "outputs": [],
   "source": [
    "cnn = tf.keras.models.Sequential()"
   ]
  },
  {
   "cell_type": "markdown",
   "id": "6cf863be",
   "metadata": {},
   "source": [
    "#### Adding the Convolution layer"
   ]
  },
  {
   "cell_type": "code",
   "execution_count": 6,
   "id": "05f01644",
   "metadata": {},
   "outputs": [],
   "source": [
    "cnn.add(tf.keras.layers.Conv2D(filters=32, kernel_size=3, activation='relu', input_shape=[64, 64, 3]))"
   ]
  },
  {
   "cell_type": "markdown",
   "id": "5f2561ce",
   "metadata": {},
   "source": [
    "#### Pooling"
   ]
  },
  {
   "cell_type": "code",
   "execution_count": 7,
   "id": "9bf8d47e",
   "metadata": {},
   "outputs": [],
   "source": [
    "cnn.add(tf.keras.layers.MaxPool2D(pool_size=2, strides=2))"
   ]
  },
  {
   "cell_type": "markdown",
   "id": "9b8fd346",
   "metadata": {},
   "source": [
    "#### Adding a second convolutional layer"
   ]
  },
  {
   "cell_type": "code",
   "execution_count": 8,
   "id": "0a955b90",
   "metadata": {},
   "outputs": [],
   "source": [
    "cnn.add(tf.keras.layers.Conv2D(filters=32, kernel_size=3, activation='relu'))\n",
    "cnn.add(tf.keras.layers.MaxPool2D(pool_size=2, strides=2))"
   ]
  },
  {
   "cell_type": "markdown",
   "id": "ca409431",
   "metadata": {},
   "source": [
    "#### Flattening"
   ]
  },
  {
   "cell_type": "code",
   "execution_count": 9,
   "id": "bb3d3686",
   "metadata": {},
   "outputs": [],
   "source": [
    "cnn.add(tf.keras.layers.Flatten())"
   ]
  },
  {
   "cell_type": "markdown",
   "id": "e1577ee9",
   "metadata": {},
   "source": [
    "#### Full Connection"
   ]
  },
  {
   "cell_type": "code",
   "execution_count": 10,
   "id": "8aab9c4c",
   "metadata": {},
   "outputs": [],
   "source": [
    "cnn.add(tf.keras.layers.Dense(units=128, activation='relu'))"
   ]
  },
  {
   "cell_type": "markdown",
   "id": "1ae862da",
   "metadata": {},
   "source": [
    "#### Adding a Dropout layer "
   ]
  },
  {
   "cell_type": "code",
   "execution_count": 12,
   "id": "e2715e60",
   "metadata": {},
   "outputs": [],
   "source": [
    "cnn.add(tf.keras.layers.Dropout(0.25))"
   ]
  },
  {
   "cell_type": "markdown",
   "id": "2dd2edf0",
   "metadata": {},
   "source": [
    "#### Adding Output Layer"
   ]
  },
  {
   "cell_type": "code",
   "execution_count": 13,
   "id": "74c87577",
   "metadata": {},
   "outputs": [],
   "source": [
    "cnn.add(tf.keras.layers.Dense(units=6, activation='softmax'))"
   ]
  },
  {
   "cell_type": "markdown",
   "id": "9b5c58ff",
   "metadata": {},
   "source": [
    "#### Summary "
   ]
  },
  {
   "cell_type": "code",
   "execution_count": 14,
   "id": "f4ac487a",
   "metadata": {},
   "outputs": [
    {
     "name": "stdout",
     "output_type": "stream",
     "text": [
      "Model: \"sequential\"\n",
      "_________________________________________________________________\n",
      "Layer (type)                 Output Shape              Param #   \n",
      "=================================================================\n",
      "conv2d (Conv2D)              (None, 62, 62, 32)        896       \n",
      "_________________________________________________________________\n",
      "max_pooling2d (MaxPooling2D) (None, 31, 31, 32)        0         \n",
      "_________________________________________________________________\n",
      "conv2d_1 (Conv2D)            (None, 29, 29, 32)        9248      \n",
      "_________________________________________________________________\n",
      "max_pooling2d_1 (MaxPooling2 (None, 14, 14, 32)        0         \n",
      "_________________________________________________________________\n",
      "flatten (Flatten)            (None, 6272)              0         \n",
      "_________________________________________________________________\n",
      "dense (Dense)                (None, 128)               802944    \n",
      "_________________________________________________________________\n",
      "dropout (Dropout)            (None, 128)               0         \n",
      "_________________________________________________________________\n",
      "dense_1 (Dense)              (None, 6)                 774       \n",
      "=================================================================\n",
      "Total params: 813,862\n",
      "Trainable params: 813,862\n",
      "Non-trainable params: 0\n",
      "_________________________________________________________________\n"
     ]
    }
   ],
   "source": [
    "cnn.summary()"
   ]
  },
  {
   "cell_type": "markdown",
   "id": "1b22ec8f",
   "metadata": {},
   "source": [
    "### Training the Convolutional Neural Network"
   ]
  },
  {
   "cell_type": "markdown",
   "id": "23ef5034",
   "metadata": {},
   "source": [
    "#### Compiling the Convolutional Neural Network"
   ]
  },
  {
   "cell_type": "code",
   "execution_count": 15,
   "id": "fb13d492",
   "metadata": {},
   "outputs": [],
   "source": [
    "cnn.compile(optimizer = 'adam', loss = 'categorical_crossentropy', metrics = ['accuracy'])"
   ]
  },
  {
   "cell_type": "markdown",
   "id": "337a7d92",
   "metadata": {},
   "source": [
    "#### Training the CNN on the Training set and evaluating it on the Validation set"
   ]
  },
  {
   "cell_type": "code",
   "execution_count": 16,
   "id": "978464aa",
   "metadata": {},
   "outputs": [
    {
     "name": "stdout",
     "output_type": "stream",
     "text": [
      "Epoch 1/25\n",
      "339/339 [==============================] - 635s 2s/step - loss: 0.9299 - accuracy: 0.6997 - val_loss: 0.8466 - val_accuracy: 0.7059\n",
      "Epoch 2/25\n",
      "339/339 [==============================] - 280s 826ms/step - loss: 0.8013 - accuracy: 0.7142 - val_loss: 0.7681 - val_accuracy: 0.7196\n",
      "Epoch 3/25\n",
      "339/339 [==============================] - 260s 767ms/step - loss: 0.7480 - accuracy: 0.7285 - val_loss: 0.7906 - val_accuracy: 0.7277\n",
      "Epoch 4/25\n",
      "339/339 [==============================] - 232s 685ms/step - loss: 0.7158 - accuracy: 0.7428 - val_loss: 0.7221 - val_accuracy: 0.7614\n",
      "Epoch 5/25\n",
      "339/339 [==============================] - 267s 790ms/step - loss: 0.6768 - accuracy: 0.7589 - val_loss: 0.7708 - val_accuracy: 0.7396\n",
      "Epoch 6/25\n",
      "339/339 [==============================] - 509s 2s/step - loss: 0.6428 - accuracy: 0.7675 - val_loss: 0.7001 - val_accuracy: 0.7699\n",
      "Epoch 7/25\n",
      "339/339 [==============================] - 322s 950ms/step - loss: 0.6122 - accuracy: 0.7796 - val_loss: 0.6742 - val_accuracy: 0.7880\n",
      "Epoch 8/25\n",
      "339/339 [==============================] - 798s 2s/step - loss: 0.5914 - accuracy: 0.7878 - val_loss: 0.6838 - val_accuracy: 0.7894\n",
      "Epoch 9/25\n",
      "339/339 [==============================] - 664s 2s/step - loss: 0.5601 - accuracy: 0.8003 - val_loss: 0.6586 - val_accuracy: 0.7909\n",
      "Epoch 10/25\n",
      "339/339 [==============================] - 484s 1s/step - loss: 0.5495 - accuracy: 0.8014 - val_loss: 0.7228 - val_accuracy: 0.7651\n",
      "Epoch 11/25\n",
      "339/339 [==============================] - 433s 1s/step - loss: 0.5320 - accuracy: 0.8056 - val_loss: 0.6783 - val_accuracy: 0.7795\n",
      "Epoch 12/25\n",
      "339/339 [==============================] - 363s 1s/step - loss: 0.5147 - accuracy: 0.8174 - val_loss: 0.6577 - val_accuracy: 0.7891\n",
      "Epoch 13/25\n",
      "339/339 [==============================] - 471s 1s/step - loss: 0.4993 - accuracy: 0.8242 - val_loss: 0.6729 - val_accuracy: 0.7987\n",
      "Epoch 14/25\n",
      "339/339 [==============================] - 368s 1s/step - loss: 0.4798 - accuracy: 0.8285 - val_loss: 0.6839 - val_accuracy: 0.7761\n",
      "Epoch 15/25\n",
      "339/339 [==============================] - 405s 1s/step - loss: 0.4737 - accuracy: 0.8306 - val_loss: 0.6915 - val_accuracy: 0.7739\n",
      "Epoch 16/25\n",
      "339/339 [==============================] - 361s 1s/step - loss: 0.4592 - accuracy: 0.8377 - val_loss: 0.7240 - val_accuracy: 0.7780\n",
      "Epoch 17/25\n",
      "339/339 [==============================] - 282s 831ms/step - loss: 0.4516 - accuracy: 0.8403 - val_loss: 0.6906 - val_accuracy: 0.7861\n",
      "Epoch 18/25\n",
      "339/339 [==============================] - 239s 704ms/step - loss: 0.4352 - accuracy: 0.8430 - val_loss: 0.7069 - val_accuracy: 0.7846\n",
      "Epoch 19/25\n",
      "339/339 [==============================] - 254s 750ms/step - loss: 0.4209 - accuracy: 0.8522 - val_loss: 0.7261 - val_accuracy: 0.7772\n",
      "Epoch 20/25\n",
      "339/339 [==============================] - 250s 738ms/step - loss: 0.4214 - accuracy: 0.8504 - val_loss: 0.7232 - val_accuracy: 0.7979\n",
      "Epoch 21/25\n",
      "339/339 [==============================] - 242s 716ms/step - loss: 0.4066 - accuracy: 0.8524 - val_loss: 0.7089 - val_accuracy: 0.7669\n",
      "Epoch 22/25\n",
      "339/339 [==============================] - 249s 735ms/step - loss: 0.3925 - accuracy: 0.8613 - val_loss: 0.6994 - val_accuracy: 0.7968\n",
      "Epoch 23/25\n",
      "339/339 [==============================] - 270s 796ms/step - loss: 0.3940 - accuracy: 0.8583 - val_loss: 0.7587 - val_accuracy: 0.7669\n",
      "Epoch 24/25\n",
      "339/339 [==============================] - 226s 668ms/step - loss: 0.3749 - accuracy: 0.8623 - val_loss: 0.7579 - val_accuracy: 0.7868\n",
      "Epoch 25/25\n",
      "339/339 [==============================] - 221s 652ms/step - loss: 0.3627 - accuracy: 0.8697 - val_loss: 0.7423 - val_accuracy: 0.7706\n"
     ]
    }
   ],
   "source": [
    "model = cnn.fit(x = training_set, validation_data = test_set, epochs = 25)"
   ]
  },
  {
   "cell_type": "markdown",
   "id": "b4ff0191",
   "metadata": {},
   "source": [
    "## Diagnose the Neural Network"
   ]
  },
  {
   "cell_type": "markdown",
   "id": "7facf715",
   "metadata": {},
   "source": [
    "### Plotting the Accuracy vs Epochs and Loss vs Epochs Graphs "
   ]
  },
  {
   "cell_type": "code",
   "execution_count": 19,
   "id": "2a937f43",
   "metadata": {},
   "outputs": [
    {
     "data": {
      "text/plain": [
       "<matplotlib.legend.Legend at 0x1e5371b45e0>"
      ]
     },
     "execution_count": 19,
     "metadata": {},
     "output_type": "execute_result"
    },
    {
     "data": {
      "image/png": "[encoded data removed]",
      "text/plain": [
       "<Figure size 1008x432 with 2 Axes>"
      ]
     },
     "metadata": {
      "needs_background": "light"
     },
     "output_type": "display_data"
    }
   ],
   "source": [
    "import matplotlib.pyplot as plt\n",
    "  \n",
    "history_dict = model.history\n",
    "loss_values = history_dict['loss']\n",
    "val_loss_values = history_dict['val_loss']\n",
    "accuracy = history_dict['accuracy']\n",
    "val_accuracy = history_dict['val_accuracy']\n",
    "  \n",
    "epochs = range(1, len(loss_values) + 1)\n",
    "fig, ax = plt.subplots(1, 2, figsize=(14, 6))\n",
    "#\n",
    "# Plot the model accuracy vs Epochs\n",
    "#\n",
    "ax[0].plot(epochs, accuracy, 'bo', label='Training accuracy')\n",
    "ax[0].plot(epochs, val_accuracy, 'b', label='Validation accuracy')\n",
    "ax[0].set_title('Training & Validation Accuracy', fontsize=16)\n",
    "ax[0].set_xlabel('Epochs', fontsize=16)\n",
    "ax[0].set_ylabel('Accuracy', fontsize=16)\n",
    "ax[0].legend()\n",
    "#\n",
    "# Plot the loss vs Epochs\n",
    "#\n",
    "ax[1].plot(epochs, loss_values, 'bo', label='Training loss') \n",
    "ax[1].plot(epochs, val_loss_values, 'b', label='Validation loss')\n",
    "ax[1].set_title('Training & Validation Loss', fontsize=16)\n",
    "ax[1].set_xlabel('Epochs', fontsize=16)\n",
    "ax[1].set_ylabel('Loss', fontsize=16)\n",
    "ax[1].legend()"
   ]
  }
 ],
 "metadata": {
  "kernelspec": {
   "display_name": "Python 3",
   "language": "python",
   "name": "python3"
  },
  "language_info": {
   "codemirror_mode": {
    "name": "ipython",
    "version": 3
   },
   "file_extension": ".py",
   "mimetype": "text/x-python",
   "name": "python",
   "nbconvert_exporter": "python",
   "pygments_lexer": "ipython3",
   "version": "3.8.8"
  }
 },
 "nbformat": 4,
 "nbformat_minor": 5
}
